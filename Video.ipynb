{
  "nbformat": 4,
  "nbformat_minor": 0,
  "metadata": {
    "colab": {
      "name": "Video",
      "provenance": [],
      "collapsed_sections": [],
      "authorship_tag": "ABX9TyPyZdAUJvZ4t0LrdXjAFfXt",
      "include_colab_link": true
    },
    "kernelspec": {
      "display_name": "Python 3",
      "name": "python3"
    },
    "language_info": {
      "name": "python"
    }
  },
  "cells": [
    {
      "cell_type": "markdown",
      "metadata": {
        "id": "view-in-github",
        "colab_type": "text"
      },
      "source": [
        "<a href=\"https://colab.research.google.com/github/umd-fire-coml/2021-Game-Playing/blob/video/Video.ipynb\" target=\"_parent\"><img src=\"https://colab.research.google.com/assets/colab-badge.svg\" alt=\"Open In Colab\"/></a>"
      ]
    },
    {
      "cell_type": "code",
      "metadata": {
        "id": "4n-plZtjI_Sa",
        "cellView": "code"
      },
      "source": [
        "from gym.wrappers import Monitor\n",
        "\n",
        "class Video:\n",
        "\n",
        "  def generate_video(environment, episodes, model=None):\n",
        "      environment = Monitor(environment, './video', force=True)\n",
        "      for ep in range(episodes):\n",
        "        state = environment.reset()\n",
        "        done = False\n",
        "        while not done:\n",
        "          environment.render(mode = 'rgb_array')\n",
        "          action = env.action_space.sample()\n",
        "          state, reward, done, info = environment.step(action)"
      ],
      "execution_count": null,
      "outputs": []
    }
  ]
}